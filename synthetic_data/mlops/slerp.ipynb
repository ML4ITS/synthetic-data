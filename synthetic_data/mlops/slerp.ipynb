{
 "cells": [
  {
   "cell_type": "markdown",
   "metadata": {},
   "source": [
    "### Investigating latent-space interpolation using spherical linear interpolation"
   ]
  },
  {
   "cell_type": "markdown",
   "metadata": {},
   "source": [
    "See more more details about Slerp [here](https://en.wikipedia.org/wiki/Slerp)."
   ]
  },
  {
   "cell_type": "markdown",
   "metadata": {},
   "source": [
    "##### Prerequisites\n",
    "- ffmpeg"
   ]
  },
  {
   "cell_type": "code",
   "execution_count": null,
   "metadata": {},
   "outputs": [],
   "source": [
    "import os\n",
    "import time\n",
    "from tempfile import TemporaryDirectory\n",
    "\n",
    "import matplotlib.pyplot as plt\n",
    "import mlflow\n",
    "import numpy as np\n",
    "import torch\n",
    "from tqdm import tqdm\n",
    "\n",
    "from synthetic_data.api.model_registry import ModelRegistry\n",
    "from synthetic_data.common import helpers\n",
    "from synthetic_data.common.config import LocalConfig\n",
    "from synthetic_data.common.torchutils import get_device\n",
    "from synthetic_data.mlops.tools.analysis import create_embedded_noise, slerp\n",
    "\n",
    "cfg = LocalConfig()\n",
    "model_registry = ModelRegistry()\n",
    "mlflow.set_tracking_uri(cfg.URI_MODELREG_REMOTE)\n",
    "mlflow.set_registry_uri(cfg.URI_MODELREG_REMOTE)\n",
    "BASE_COLOR = \"#DE5D4F\"\n",
    "\n",
    "device = get_device()\n",
    "torch.manual_seed(1337)\n",
    "np.random.seed(1337)"
   ]
  },
  {
   "cell_type": "markdown",
   "metadata": {},
   "source": [
    "## Interpolate on WGAN-GP"
   ]
  },
  {
   "cell_type": "code",
   "execution_count": null,
   "metadata": {},
   "outputs": [],
   "source": [
    "def save_gan_sequence(sequence: torch.Tensor, global_step: int, max_step: int, savedir: str) -> None:\n",
    "    if sequence.ndim == 2:\n",
    "        sequence = sequence[0]\n",
    "\n",
    "    sequence = sequence.detach().numpy()\n",
    "    n_samples = sequence.shape[0]\n",
    "    time_steps = np.arange(n_samples)\n",
    "\n",
    "    plt.figure(figsize=(10, 3), dpi=200)\n",
    "    plt.plot(time_steps, sequence, color=BASE_COLOR)\n",
    "    plt.plot(time_steps, sequence, \"o\", color=BASE_COLOR)\n",
    "    plt.title(f\"frame {global_step:04d} / {max_step:04d}\", loc=\"right\")\n",
    "    plt.savefig(f\"{savedir}/frame{global_step:04d}.jpg\")\n",
    "    plt.close()\n",
    "\n",
    "with TemporaryDirectory() as tmpdir:\n",
    "\n",
    "    wgan = model_registry.load_model(\"WGAN-GP\", 4)\n",
    "\n",
    "    noise_shape = (1, 100)  # batch_size, z_dim\n",
    "    noise_A = torch.randn(noise_shape)  # initial noise\n",
    "\n",
    "    n_samples = 200  # number of samples between two distrubtions\n",
    "    n_classes = 10\n",
    "\n",
    "    global_step = 0\n",
    "    max_steps = n_classes * n_samples\n",
    "\n",
    "    with tqdm(total=max_steps, desc=\"Interpolating\", unit=\"frame\", colour=BASE_COLOR) as pbar:\n",
    "        while global_step < max_steps:\n",
    "\n",
    "            # sample new destination\n",
    "            noise_B = torch.randn(noise_shape)\n",
    "\n",
    "            for value in np.linspace(0, 1, n_samples):\n",
    "                noise = slerp(float(value), noise_A, noise_B)\n",
    "                sequence = wgan(noise)\n",
    "                save_gan_sequence(sequence, global_step, max_steps, tmpdir)\n",
    "                \n",
    "                global_step += 1\n",
    "                pbar.update(1)\n",
    "            \n",
    "            # Update previous noise for next iteration\n",
    "            noise_A = noise_B\n",
    "\n",
    "    helpers.create_gif_from_image_folder(tmpdir, \"wgan_gp.gif\", fps=60)"
   ]
  },
  {
   "cell_type": "markdown",
   "metadata": {},
   "source": [
    "## Interpolate on C-GAN"
   ]
  },
  {
   "cell_type": "code",
   "execution_count": null,
   "metadata": {},
   "outputs": [],
   "source": [
    "def save_cgan_sequence(\n",
    "    sequence: torch.Tensor, global_step: int, max_step: int, indexA: int, indexB: int, save_dir: str) -> None:\n",
    "    if sequence.ndim == 2:\n",
    "        sequence = sequence[0]\n",
    "\n",
    "    sequence = sequence.detach().numpy()\n",
    "    n_samples = sequence.shape[0]\n",
    "    time_steps = np.arange(n_samples)\n",
    "\n",
    "    freqA = str(indexA + 1) + \" Hz\"\n",
    "    freqB = str(indexB + 1) + \" Hz\"\n",
    "\n",
    "    plt.figure(figsize=(10, 3), dpi=200)\n",
    "    plt.plot(time_steps, sequence, color=BASE_COLOR)\n",
    "    plt.plot(time_steps, sequence, \"o\", color=BASE_COLOR)\n",
    "    plt.title(f\"from {freqA} to {freqB}\", loc=\"left\")\n",
    "    plt.title(f\"frame {global_step:04d} / {max_step:04d}\", loc=\"right\")\n",
    "    plt.savefig(f\"{save_dir}/frame%04d.jpg\" % global_step)\n",
    "    plt.savefig(f\"{save_dir}/frame{global_step:04d}.jpg\")\n",
    "    plt.close()\n",
    "\n",
    "with TemporaryDirectory() as tmpdir:\n",
    "    cgan = model_registry.load_model(\"C-GAN\", 7)\n",
    "\n",
    "    # Pure forward pass doesnt allow us to use different embeddings,\n",
    "    # so we retrieve the embedder and the generator from the model's modules\n",
    "    embedder = cgan.embedder\n",
    "    model = cgan.model.forward\n",
    "\n",
    "    n_samples = 20  # number of samples between two frequencies\n",
    "    n_classes = 10\n",
    "\n",
    "    label_A = 0  # Setup initial frequency to 1 Hz\n",
    "    next_index = 1  # Setup next frequency to 2 Hz\n",
    "\n",
    "    fixed_noise = torch.randn(1, 100) # (batch_size, z_dim)\n",
    "    noise_A = create_embedded_noise(embedder, fixed_noise, label_A)\n",
    "\n",
    "    global_step = 0\n",
    "    max_steps = n_classes * n_samples\n",
    "\n",
    "    with tqdm(total=max_steps, desc=\"Interpolating\", unit=\"frame\", colour=BASE_COLOR) as pbar:\n",
    "        for i in range(n_classes):\n",
    "\n",
    "            label_B = next_index % n_classes\n",
    "            noise_B = create_embedded_noise(embedder, fixed_noise, label_B)\n",
    "\n",
    "            # Interpolate between the two noise distributions\n",
    "            for j, t in enumerate(np.linspace(0, 1, n_samples)):\n",
    "                global_step = j + i * n_samples\n",
    "                pbar.update(1)\n",
    "\n",
    "                dynamic_noise = slerp(t, noise_A, noise_B)\n",
    "                sequence = model(dynamic_noise)\n",
    "                save_cgan_sequence(sequence, global_step, max_steps, label_A, label_B, tmpdir)\n",
    "\n",
    "            # Update previous noise for next iteration\n",
    "            label_A = label_B\n",
    "            noise_A = noise_B\n",
    "            next_index += 1\n",
    "\n",
    "    helpers.create_gif_from_image_folder(tmpdir, \"test_cgan.gif\", fps=10)"
   ]
  }
 ],
 "metadata": {
  "kernelspec": {
   "display_name": "Python 3.7.13 ('venv': venv)",
   "language": "python",
   "name": "python3"
  },
  "language_info": {
   "codemirror_mode": {
    "name": "ipython",
    "version": 3
   },
   "file_extension": ".py",
   "mimetype": "text/x-python",
   "name": "python",
   "nbconvert_exporter": "python",
   "pygments_lexer": "ipython3",
   "version": "3.7.13"
  },
  "orig_nbformat": 4,
  "vscode": {
   "interpreter": {
    "hash": "819e3cb84aaf92d5d7bd0afef906389b693a60b294c39d3a97d98cf64ad9c7cf"
   }
  }
 },
 "nbformat": 4,
 "nbformat_minor": 2
}
