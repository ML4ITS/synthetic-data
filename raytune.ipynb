{
 "cells": [
  {
   "cell_type": "code",
   "execution_count": 9,
   "metadata": {},
   "outputs": [],
   "source": [
    "import os\n",
    "\n",
    "import torch\n",
    "import mlflow\n",
    "from mlflow.tracking import MlflowClient\n",
    "\n",
    "from db import database as db\n",
    "from utils.modelling import (\n",
    "    reshape_and_split,\n",
    "    normalize_dataset,\n",
    "    move_to_device,\n",
    "    vizualize_and_view_prediction,\n",
    "    vizualize_dataset\n",
    ")"
   ]
  },
  {
   "cell_type": "code",
   "execution_count": null,
   "metadata": {},
   "outputs": [],
   "source": [
    "# TODO: Fix environment variables when testing locally\n",
    "ML_HOST = None # replace\n",
    "ML_PORT = None # replace\n",
    "\n",
    "ML_SERVER = f\"http://{ML_HOST}:{ML_PORT}\"\n",
    "mlflow.set_tracking_uri(ML_SERVER)\n",
    "mlflow.set_registry_uri(ML_SERVER)\n",
    "\n",
    "client = MlflowClient()"
   ]
  },
  {
   "cell_type": "code",
   "execution_count": null,
   "metadata": {},
   "outputs": [],
   "source": [
    "for registrated_model in client.search_registered_models():\n",
    "    print(f\"Name: {registrated_model.name}\")"
   ]
  },
  {
   "cell_type": "code",
   "execution_count": null,
   "metadata": {},
   "outputs": [],
   "source": [
    "MODEL_NAME = \"lstm_model\"\n",
    "for rm in client.search_model_versions(\"name='{}'\".format(MODEL_NAME)):\n",
    "    print((rm.name, rm.version, rm.run_id))"
   ]
  },
  {
   "cell_type": "code",
   "execution_count": null,
   "metadata": {},
   "outputs": [],
   "source": [
    "device = torch.device(\"cpu\")"
   ]
  },
  {
   "cell_type": "code",
   "execution_count": null,
   "metadata": {},
   "outputs": [],
   "source": [
    "MODEL_NAME = \"lstm_model\"\n",
    "MODEL_VERSION = \"1\"\n",
    "\n",
    "model_uri = f\"models:/{MODEL_NAME}/{MODEL_VERSION}\"\n",
    "model = mlflow.pytorch.load_model(model_uri=model_uri, map_location=device)\n",
    "model.double()\n",
    "model.to(device)\n",
    "model.eval()"
   ]
  },
  {
   "cell_type": "markdown",
   "metadata": {},
   "source": [
    "### Load dataset"
   ]
  },
  {
   "cell_type": "code",
   "execution_count": null,
   "metadata": {},
   "outputs": [],
   "source": [
    "SPLIT_SIZE = 5\n",
    "SPLIT_RATIO = 0.3\n",
    "DATASET_NAME = \"Simple Vibes\"\n",
    "\n",
    "dataset = db.load_time_series_as_numpy(DATASET_NAME)\n",
    "dataset = reshape_and_split(dataset, split_ratio=SPLIT_RATIO, split_size=SPLIT_SIZE)\n",
    "dataset = normalize_dataset(dataset)\n",
    "\n",
    "x_train, y_train, x_test, y_test = move_to_device(data=dataset, device=device)\n",
    "\n",
    "vizualize_dataset(x_train)"
   ]
  },
  {
   "cell_type": "markdown",
   "metadata": {},
   "source": [
    "### Evaluate"
   ]
  },
  {
   "cell_type": "code",
   "execution_count": null,
   "metadata": {},
   "outputs": [],
   "source": [
    "future = 1000\n",
    "\n",
    "predictions = model(x_test, future=future)"
   ]
  },
  {
   "cell_type": "code",
   "execution_count": null,
   "metadata": {},
   "outputs": [],
   "source": [
    "predictions = predictions.detach().numpy()\n",
    "n_samples = x_test.size(1)\n",
    "\n",
    "vizualize_and_view_prediction(predictions, n_samples, future)"
   ]
  }
 ],
 "metadata": {
  "kernelspec": {
   "display_name": "Python 3.7.13 ('venv': venv)",
   "language": "python",
   "name": "python3"
  },
  "language_info": {
   "codemirror_mode": {
    "name": "ipython",
    "version": 3
   },
   "file_extension": ".py",
   "mimetype": "text/x-python",
   "name": "python",
   "nbconvert_exporter": "python",
   "pygments_lexer": "ipython3",
   "version": "3.7.13"
  },
  "orig_nbformat": 4,
  "vscode": {
   "interpreter": {
    "hash": "819e3cb84aaf92d5d7bd0afef906389b693a60b294c39d3a97d98cf64ad9c7cf"
   }
  }
 },
 "nbformat": 4,
 "nbformat_minor": 2
}
