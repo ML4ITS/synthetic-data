{
 "cells": [
  {
   "cell_type": "code",
   "execution_count": 19,
   "metadata": {},
   "outputs": [],
   "source": [
    "import os\n",
    "import tempfile\n",
    "import torch\n",
    "\n",
    "import mlflow\n",
    "import mlflow.pyfunc\n",
    "from mlflow.tracking import MlflowClient\n",
    "\n",
    "from utils.modelling import get_device"
   ]
  },
  {
   "cell_type": "code",
   "execution_count": null,
   "metadata": {},
   "outputs": [],
   "source": [
    "ML_HOST = None  # replace\n",
    "ML_PORT = None  # replace\n",
    "ML_SERVER = f\"http://{ML_HOST}:{ML_PORT}\"\n",
    "\n",
    "mlflow.set_tracking_uri(ML_SERVER)\n",
    "mlflow.set_registry_uri(ML_SERVER)"
   ]
  },
  {
   "cell_type": "code",
   "execution_count": 21,
   "metadata": {},
   "outputs": [],
   "source": [
    "client = MlflowClient()\n",
    "assert len(client.list_experiments()) == 6"
   ]
  },
  {
   "cell_type": "code",
   "execution_count": 22,
   "metadata": {},
   "outputs": [
    {
     "name": "stdout",
     "output_type": "stream",
     "text": [
      "('baseline_lstm', '1', 'a8efecd449054715aa9bc3500964fcbb')\n",
      "('baseline_lstm', '2', '3f863e1dae724de69098369c0ab80e70')\n",
      "('baseline_lstm', '3', 'd97a6bba3a52478eb956382b2d0a9f9b')\n",
      "('baseline_lstm', '4', 'b8bed3ea0cd94b2e8fd066c51ae1d841')\n"
     ]
    }
   ],
   "source": [
    "for rm in client.search_model_versions(\"name='{}'\".format(\"baseline_lstm\")):\n",
    "    print((rm.name, rm.version, rm.run_id))"
   ]
  },
  {
   "cell_type": "code",
   "execution_count": 23,
   "metadata": {},
   "outputs": [],
   "source": [
    "def load_torchscript_model(run_id: str, src: str = \".\", use_cuda: bool = False) -> torch.nn.Module:\n",
    "    with tempfile.TemporaryDirectory() as tmpdir:\n",
    "        path_to_tmp_files = client.download_artifacts(run_id, src, tmpdir)\n",
    "        return torch.jit.load(os.path.join(path_to_tmp_files, \"model.pt\"), map_location=get_device())"
   ]
  },
  {
   "cell_type": "code",
   "execution_count": 24,
   "metadata": {},
   "outputs": [],
   "source": [
    "# Use highest version of the model\n",
    "RUN_ID = \"b8bed3ea0cd94b2e8fd066c51ae1d841\"\n",
    "\n",
    "model = load_torchscript_model(RUN_ID)"
   ]
  },
  {
   "cell_type": "code",
   "execution_count": 25,
   "metadata": {},
   "outputs": [
    {
     "data": {
      "text/plain": [
       "RecursiveScriptModule(\n",
       "  original_name=LSTM\n",
       "  (lstm1): RecursiveScriptModule(original_name=LSTMCell)\n",
       "  (lstm2): RecursiveScriptModule(original_name=LSTMCell)\n",
       "  (linear): RecursiveScriptModule(original_name=Linear)\n",
       ")"
      ]
     },
     "execution_count": 25,
     "metadata": {},
     "output_type": "execute_result"
    }
   ],
   "source": [
    "model"
   ]
  }
 ],
 "metadata": {
  "kernelspec": {
   "display_name": "Python 3.7.13 ('venv': venv)",
   "language": "python",
   "name": "python3"
  },
  "language_info": {
   "codemirror_mode": {
    "name": "ipython",
    "version": 3
   },
   "file_extension": ".py",
   "mimetype": "text/x-python",
   "name": "python",
   "nbconvert_exporter": "python",
   "pygments_lexer": "ipython3",
   "version": "3.7.13"
  },
  "orig_nbformat": 4,
  "vscode": {
   "interpreter": {
    "hash": "819e3cb84aaf92d5d7bd0afef906389b693a60b294c39d3a97d98cf64ad9c7cf"
   }
  }
 },
 "nbformat": 4,
 "nbformat_minor": 2
}
